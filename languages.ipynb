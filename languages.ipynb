{
 "cells": [
  {
   "cell_type": "code",
   "execution_count": 1,
   "metadata": {},
   "outputs": [],
   "source": [
    "import pandas as pd\n",
    "import geopandas as gpd\n"
   ]
  },
  {
   "cell_type": "code",
   "execution_count": 2,
   "metadata": {},
   "outputs": [],
   "source": [
    "df = pd.read_csv('data/languages.csv', sep=',', index_col=0 )"
   ]
  },
  {
   "cell_type": "code",
   "execution_count": null,
   "metadata": {},
   "outputs": [],
   "source": [
    "x = df[['Name','Latitude', 'Longitude']]\n",
    "# x.head()\n",
    "gpd.GeoDataFrame(df, geometry=gpd.points_from_xy(df['Longitude'], df['Latitude']))\n",
    "\n",
    "# type(df[['Latitude', 'Longitude']])\n",
    "\n",
    "\n",
    "# gpd = gpd.GeoDataFrame(df, "
   ]
  },
  {
   "cell_type": "code",
   "execution_count": 5,
   "metadata": {},
   "outputs": [
    {
     "data": {
      "text/plain": [
       "<bound method NDFrame.head of                            ID                 Name  Macroarea       Latitude  \\\n",
       "0                         aab        Arapesh (Abu)  Papunesia          -3.45   \n",
       "1                         aar                 Aari     Africa              6   \n",
       "2                         aba                 Abau  Papunesia             -4   \n",
       "3                         abb     Arabic (Chadian)     Africa  13.8333333333   \n",
       "4                         abd               Abidji     Africa  5.66666666667   \n",
       "...                       ...                  ...        ...            ...   \n",
       "3568              family-zuni                 Zuni                             \n",
       "3569               genus-zuni                 Zuni                             \n",
       "3570             family-other                other                             \n",
       "3571  genus-creolesandpidgins  Creoles and Pidgins                             \n",
       "3572      genus-signlanguages       Sign Languages                             \n",
       "\n",
       "           Longitude Glottocode ISO639P3code        Family Subfamily  \\\n",
       "0             142.95   abua1245          aah    Torricelli             \n",
       "1      36.5833333333   aari1239          aiw  Afro-Asiatic    Omotic   \n",
       "2             141.25   abau1245          aau         Sepik             \n",
       "3      20.8333333333   chad1249          shu  Afro-Asiatic             \n",
       "4     -4.58333333333   abid1235          abi   Niger-Congo       Kwa   \n",
       "...              ...        ...          ...           ...       ...   \n",
       "3568                                                                   \n",
       "3569                                                                   \n",
       "3570                                                                   \n",
       "3571                                                                   \n",
       "3572                                                                   \n",
       "\n",
       "               Genus GenusIcon ISO_codes Samples_100 Samples_200 Country_ID  \\\n",
       "0     Kombio-Arapesh                 aah       false       false         PG   \n",
       "1       South Omotic                 aiw       false       false         ET   \n",
       "2               Abau                 aau       false       false         PG   \n",
       "3            Semitic                 shu       false       false         TD   \n",
       "4             Agneby                 abi       false       false         CI   \n",
       "...              ...       ...       ...         ...         ...        ...   \n",
       "3568                                                                          \n",
       "3569                   cCCA651                                                \n",
       "3570                                                                          \n",
       "3571                   c51CC70                                                \n",
       "3572                   c593380                                                \n",
       "\n",
       "             Source            Parent_ID geometry  \n",
       "0      Nekitel-1985  genus-kombioarapesh     None  \n",
       "1     Hayward-1990a    genus-southomotic     None  \n",
       "2       Bailey-1975           genus-abau     None  \n",
       "3     Abu-Absi-1995        genus-semitic     None  \n",
       "4                           genus-agneby     None  \n",
       "...             ...                  ...      ...  \n",
       "3568                                         None  \n",
       "3569                         family-zuni     None  \n",
       "3570                                         None  \n",
       "3571                        family-other     None  \n",
       "3572                        family-other     None  \n",
       "\n",
       "[3573 rows x 18 columns]>"
      ]
     },
     "execution_count": 5,
     "metadata": {},
     "output_type": "execute_result"
    }
   ],
   "source": [
    "gpd_lang.head"
   ]
  },
  {
   "cell_type": "code",
   "execution_count": null,
   "metadata": {},
   "outputs": [],
   "source": []
  },
  {
   "cell_type": "code",
   "execution_count": 7,
   "metadata": {},
   "outputs": [],
   "source": [
    "df_indo_europ = df[df['Family'] == 'Indo-European']"
   ]
  },
  {
   "cell_type": "code",
   "execution_count": null,
   "metadata": {},
   "outputs": [],
   "source": [
    "# df_indo_europ.groupby(['Name']).count()\n",
    "# df_indo_europ['Name'].value_counts\n",
    "df_indo_europ\n"
   ]
  },
  {
   "cell_type": "code",
   "execution_count": null,
   "metadata": {},
   "outputs": [],
   "source": []
  }
 ],
 "metadata": {
  "kernelspec": {
   "display_name": "base",
   "language": "python",
   "name": "python3"
  },
  "language_info": {
   "codemirror_mode": {
    "name": "ipython",
    "version": 3
   },
   "file_extension": ".py",
   "mimetype": "text/x-python",
   "name": "python",
   "nbconvert_exporter": "python",
   "pygments_lexer": "ipython3",
   "version": "3.9.15"
  },
  "orig_nbformat": 4,
  "vscode": {
   "interpreter": {
    "hash": "f57fdb02cb919fd01990c227daaad755859e77bf38a6a29d91050f4b4504badd"
   }
  }
 },
 "nbformat": 4,
 "nbformat_minor": 2
}
