{
 "cells": [
  {
   "attachments": {},
   "cell_type": "markdown",
   "metadata": {},
   "source": [
    "# Preparations\n",
    "- Imports\n",
    "- Read csvs"
   ]
  },
  {
   "cell_type": "code",
   "execution_count": 1,
   "metadata": {},
   "outputs": [],
   "source": [
    "import pandas as pd"
   ]
  },
  {
   "cell_type": "code",
   "execution_count": 2,
   "metadata": {},
   "outputs": [],
   "source": [
    "df_lang = pd.read_csv('data/languages.csv', sep=',', index_col=0 )\n",
    "df_vals = pd.read_csv('data/values.csv')\n"
   ]
  },
  {
   "attachments": {},
   "cell_type": "markdown",
   "metadata": {},
   "source": [
    "# Transform values.csv"
   ]
  },
  {
   "cell_type": "code",
   "execution_count": 6,
   "metadata": {},
   "outputs": [],
   "source": [
    "df_transformed = df_vals.pivot(index='Language_ID', columns='Parameter_ID', values='Value')"
   ]
  },
  {
   "cell_type": "code",
   "execution_count": null,
   "metadata": {},
   "outputs": [],
   "source": [
    "df_vals[df_vals['Language_ID'] == 'aab'].head(3)"
   ]
  },
  {
   "cell_type": "code",
   "execution_count": 8,
   "metadata": {},
   "outputs": [
    {
     "data": {
      "text/html": [
       "<div>\n",
       "<style scoped>\n",
       "    .dataframe tbody tr th:only-of-type {\n",
       "        vertical-align: middle;\n",
       "    }\n",
       "\n",
       "    .dataframe tbody tr th {\n",
       "        vertical-align: top;\n",
       "    }\n",
       "\n",
       "    .dataframe thead th {\n",
       "        text-align: right;\n",
       "    }\n",
       "</style>\n",
       "<table border=\"1\" class=\"dataframe\">\n",
       "  <thead>\n",
       "    <tr style=\"text-align: right;\">\n",
       "      <th>Parameter_ID</th>\n",
       "      <th>81A</th>\n",
       "      <th>82A</th>\n",
       "      <th>83A</th>\n",
       "    </tr>\n",
       "    <tr>\n",
       "      <th>Language_ID</th>\n",
       "      <th></th>\n",
       "      <th></th>\n",
       "      <th></th>\n",
       "    </tr>\n",
       "  </thead>\n",
       "  <tbody>\n",
       "    <tr>\n",
       "      <th>aab</th>\n",
       "      <td>2.0</td>\n",
       "      <td>1.0</td>\n",
       "      <td>2.0</td>\n",
       "    </tr>\n",
       "  </tbody>\n",
       "</table>\n",
       "</div>"
      ],
      "text/plain": [
       "Parameter_ID  81A  82A  83A\n",
       "Language_ID                \n",
       "aab           2.0  1.0  2.0"
      ]
     },
     "execution_count": 8,
     "metadata": {},
     "output_type": "execute_result"
    }
   ],
   "source": [
    "df_transformed.filter(items=['aab'], axis = 0)[['81A', '82A', '83A']]"
   ]
  },
  {
   "attachments": {},
   "cell_type": "markdown",
   "metadata": {},
   "source": [
    "## Join with languages"
   ]
  },
  {
   "cell_type": "code",
   "execution_count": 37,
   "metadata": {},
   "outputs": [],
   "source": [
    "df_trans_val_lang = df_transformed.join(df_lang, how='left')"
   ]
  },
  {
   "attachments": {},
   "cell_type": "markdown",
   "metadata": {},
   "source": [
    "## filter NAN"
   ]
  },
  {
   "cell_type": "code",
   "execution_count": 40,
   "metadata": {},
   "outputs": [
    {
     "data": {
      "text/html": [
       "<div>\n",
       "<style scoped>\n",
       "    .dataframe tbody tr th:only-of-type {\n",
       "        vertical-align: middle;\n",
       "    }\n",
       "\n",
       "    .dataframe tbody tr th {\n",
       "        vertical-align: top;\n",
       "    }\n",
       "\n",
       "    .dataframe thead th {\n",
       "        text-align: right;\n",
       "    }\n",
       "</style>\n",
       "<table border=\"1\" class=\"dataframe\">\n",
       "  <thead>\n",
       "    <tr style=\"text-align: right;\">\n",
       "      <th></th>\n",
       "      <th>100A</th>\n",
       "      <th>101A</th>\n",
       "      <th>102A</th>\n",
       "      <th>103A</th>\n",
       "      <th>104A</th>\n",
       "      <th>105A</th>\n",
       "      <th>106A</th>\n",
       "      <th>107A</th>\n",
       "      <th>108A</th>\n",
       "      <th>108B</th>\n",
       "      <th>...</th>\n",
       "      <th>Family</th>\n",
       "      <th>Subfamily</th>\n",
       "      <th>Genus</th>\n",
       "      <th>GenusIcon</th>\n",
       "      <th>ISO_codes</th>\n",
       "      <th>Samples_100</th>\n",
       "      <th>Samples_200</th>\n",
       "      <th>Country_ID</th>\n",
       "      <th>Source</th>\n",
       "      <th>Parent_ID</th>\n",
       "    </tr>\n",
       "    <tr>\n",
       "      <th>Language_ID</th>\n",
       "      <th></th>\n",
       "      <th></th>\n",
       "      <th></th>\n",
       "      <th></th>\n",
       "      <th></th>\n",
       "      <th></th>\n",
       "      <th></th>\n",
       "      <th></th>\n",
       "      <th></th>\n",
       "      <th></th>\n",
       "      <th></th>\n",
       "      <th></th>\n",
       "      <th></th>\n",
       "      <th></th>\n",
       "      <th></th>\n",
       "      <th></th>\n",
       "      <th></th>\n",
       "      <th></th>\n",
       "      <th></th>\n",
       "      <th></th>\n",
       "      <th></th>\n",
       "    </tr>\n",
       "  </thead>\n",
       "  <tbody>\n",
       "  </tbody>\n",
       "</table>\n",
       "<p>0 rows × 208 columns</p>\n",
       "</div>"
      ],
      "text/plain": [
       "Empty DataFrame\n",
       "Columns: [100A, 101A, 102A, 103A, 104A, 105A, 106A, 107A, 108A, 108B, 109A, 109B, 10A, 10B, 110A, 111A, 112A, 113A, 114A, 115A, 116A, 117A, 118A, 119A, 11A, 120A, 121A, 122A, 123A, 124A, 125A, 126A, 127A, 128A, 129A, 12A, 130A, 130B, 131A, 132A, 133A, 134A, 135A, 136A, 136B, 137A, 137B, 138A, 139A, 13A, 140A, 141A, 142A, 143A, 143B, 143C, 143D, 143E, 143F, 143G, 144A, 144B, 144C, 144D, 144E, 144F, 144G, 144H, 144I, 144J, 144K, 144L, 144M, 144N, 144O, 144P, 144Q, 144R, 144S, 144T, 144U, 144V, 144W, 144X, 144Y, 14A, 15A, 16A, 17A, 18A, 19A, 1A, 20A, 21A, 21B, 22A, 23A, 24A, 25A, 25B, ...]\n",
       "Index: []\n",
       "\n",
       "[0 rows x 208 columns]"
      ]
     },
     "execution_count": 40,
     "metadata": {},
     "output_type": "execute_result"
    }
   ],
   "source": [
    "df_trans_val_lang[pd.isna(df_trans_val_lang['Name'])]"
   ]
  },
  {
   "attachments": {},
   "cell_type": "markdown",
   "metadata": {},
   "source": [
    "## Output"
   ]
  },
  {
   "cell_type": "code",
   "execution_count": 41,
   "metadata": {},
   "outputs": [],
   "source": [
    "df_transformed.to_csv('data/vals_transformed')"
   ]
  },
  {
   "attachments": {},
   "cell_type": "markdown",
   "metadata": {},
   "source": [
    "# Check NaN"
   ]
  },
  {
   "cell_type": "code",
   "execution_count": null,
   "metadata": {},
   "outputs": [],
   "source": [
    "df_lang[df_lang.index.isna()]\n",
    "\n",
    "# Language Nandi's ID is stupidly 'nan' which Pandas translates to nAn!!"
   ]
  },
  {
   "attachments": {},
   "cell_type": "markdown",
   "metadata": {},
   "source": [
    "# Spot check European languages"
   ]
  },
  {
   "cell_type": "code",
   "execution_count": 39,
   "metadata": {},
   "outputs": [],
   "source": [
    "# df_transformed.head()\n",
    "\n",
    "df_euro = pd.read_csv('data/european_languages.csv', sep=',')\n",
    "df_probe = df_transformed[ df_transformed.index.isin(df_euro['ID'])]\n",
    "\n",
    "df_probe = df_probe.join(df_lang['Name'], how = 'inner')\n",
    "\n",
    "df_probe.to_csv('data/foo.csv')\n",
    "\n"
   ]
  }
 ],
 "metadata": {
  "kernelspec": {
   "display_name": "base",
   "language": "python",
   "name": "python3"
  },
  "language_info": {
   "codemirror_mode": {
    "name": "ipython",
    "version": 3
   },
   "file_extension": ".py",
   "mimetype": "text/x-python",
   "name": "python",
   "nbconvert_exporter": "python",
   "pygments_lexer": "ipython3",
   "version": "3.9.15"
  },
  "orig_nbformat": 4,
  "vscode": {
   "interpreter": {
    "hash": "f57fdb02cb919fd01990c227daaad755859e77bf38a6a29d91050f4b4504badd"
   }
  }
 },
 "nbformat": 4,
 "nbformat_minor": 2
}
